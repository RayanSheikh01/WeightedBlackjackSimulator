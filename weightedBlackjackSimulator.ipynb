{
 "cells": [
  {
   "cell_type": "markdown",
   "metadata": {},
   "source": [
    "# Blackjack Simulator: Cheating Dealer Edition 🎲🃏\n",
    "\n",
    "This Jupyter Notebook is an interactive **Blackjack game simulator** designed to explore probabilities, strategies and the impact of a **weighted (cheating) dealer**.\n",
    "\n",
    "## Overview\n",
    "The project simulates rounds of Blackjack between a player and a dealer, implementing standard Blackjack rules:\n",
    "- Cards 2–10 are valued at their number  \n",
    "- J, Q, K = 10  \n",
    "- Ace = 1 or 11 (whichever benefits the hand)\n",
    "\n",
    "The dealer uses a **weighted deck**, increasing the likelihood of drawing high value cards, giving them an advantage over the player. This allows for analysis of how “cheating” affects game outcomes.\n",
    "\n",
    "## Features\n",
    "- Simulate **single or multiple rounds** of Blackjack  \n",
    "- Track **player and dealer hand totals** and round outcomes  \n",
    "- Compare results with a **normal dealer vs. cheating dealer**  \n",
    "- Generate **visualisations**: bar charts, histograms, and cumulative win rates  \n",
    "- Explore **probabilities, expected values, and game strategies**  \n",
    "\n",
    "This notebook is a combination of **game simulation, probability analysis, and data visualisation**, demonstrating Python programming and interactive notebook design.\n"
   ]
  },
  {
   "cell_type": "code",
   "execution_count": 1,
   "metadata": {},
   "outputs": [],
   "source": [
    "import random\n",
    "import matplotlib\n",
    "import pandas"
   ]
  },
  {
   "cell_type": "code",
   "execution_count": 2,
   "metadata": {},
   "outputs": [],
   "source": [
    "deck = {\n",
    "    '2': 2, '3': 3, '4': 4, '5': 5, '6': 6, '7': 7, '8': 8, '9': 9, '10': 10,\n",
    "    'J': 10, 'Q': 10, 'K': 10, 'A': 11\n",
    "}"
   ]
  },
  {
   "cell_type": "code",
   "execution_count": 3,
   "metadata": {},
   "outputs": [],
   "source": [
    "\n",
    "#  if want to do single round simulation, uncomment below\n",
    "\n",
    "# # Draw cards for player and dealer\n",
    "# playerHand = random.choices(\n",
    "#     population=list(deck.keys()),\n",
    "#     weights=[1, 1, 1, 1, 1, 1, 1, 1, 1, 1, 1, 1, 1],\n",
    "#     k=2\n",
    "# )\n",
    "\n",
    "# dealerHand = random.choices(\n",
    "#     population=list(deck.keys()),\n",
    "#     weights=[1, 1, 1, 1, 1, 1, 1, 2, 2, 2, 2, 2, 2],\n",
    "#     k=2\n",
    "# )\n",
    "# print(\"Dealer Hand:\", dealerHand[0], \"?\")\n",
    "# print(\"Player Hand:\",playerHand)\n",
    "# print(\"Total:\", sum([deck[card] for card in playerHand]))\n",
    "\n",
    "\n",
    "# # Single round simulation\n",
    "# while True:\n",
    "#     choice = input(\"Do you want to hit or stand? (h/s): \").lower()\n",
    "#     if choice == 'h':\n",
    "#         card = random.choices(\n",
    "#     population=list(deck.keys()),\n",
    "#     weights=[1, 1, 1, 1, 1, 1, 1, 1, 1, 1, 1, 1, 1],\n",
    "#     k=1)\n",
    "#         playerHand.append(card[0])\n",
    "#         total = sum([deck[card] for card in playerHand])\n",
    "#         print(\"Player Hand:\", playerHand)\n",
    "#         print(\"Total:\", total)\n",
    "#         if total > 21:\n",
    "#             print(\"Bust! You lose.\")\n",
    "#             exit()\n",
    "#     elif choice == 's':\n",
    "#         break\n",
    "\n",
    "\n",
    "# # Dealer's turn\n",
    "# print(\"Dealer's turn...\")\n",
    "# print(\"Dealer Hand:\", dealerHand)\n",
    "# while sum([deck[card] for card in dealerHand]) < 17:\n",
    "#     card = random.choices(\n",
    "#         population=list(deck.keys()),\n",
    "#         weights=[1, 1, 1, 1, 1, 1, 1, 2, 2, 2, 2, 2, 2],\n",
    "#         k=1\n",
    "#     )\n",
    "#     dealerHand.append(card[0])\n",
    "#     print(\"Dealer Hand:\", dealerHand)\n",
    "# dealerTotal = sum([deck[card] for card in dealerHand])\n",
    "# playerTotal = sum([deck[card] for card in playerHand])\n",
    "# print(\"Dealer Total:\", dealerTotal)\n",
    "# print(\"Player Total:\", playerTotal)\n",
    "# # Determine winner\n",
    "# if dealerTotal > 21 or playerTotal > dealerTotal:\n",
    "#     print(\"You win!\")\n",
    "# elif playerTotal < dealerTotal:\n",
    "#     print(\"Dealer wins!\")\n",
    "# else:\n",
    "#     print(\"It's a tie!\")\n",
    "\n",
    "\n"
   ]
  },
  {
   "cell_type": "code",
   "execution_count": 12,
   "metadata": {},
   "outputs": [
    {
     "name": "stdout",
     "output_type": "stream",
     "text": [
      "After 100 rounds:\n",
      "{'Player Wins': 34, 'Dealer Wins': 57, 'Ties': 9}\n"
     ]
    }
   ],
   "source": [
    "# play n rounds and collect statistics\n",
    "n = int(input(\"Enter number of rounds to simulate: \"))\n",
    "results = {'Player Wins': 0, 'Dealer Wins': 0, 'Ties': 0}\n",
    "playerTotalSum = 0\n",
    "dealerTotalSum = 0\n",
    "for _ in range(n):\n",
    "    # Draw cards for player and dealer\n",
    "    playerHand = random.choices(\n",
    "        population=list(deck.keys()),\n",
    "        weights=[1, 1, 1, 1, 1, 1, 1, 1, 1, 1, 1, 1, 1],\n",
    "        k=2\n",
    "    )\n",
    "    dealerHand = random.choices(\n",
    "        population=list(deck.keys()),\n",
    "        weights=[1, 1, 1, 1, 1, 1, 1, 2, 2, 2, 2, 2, 2],\n",
    "        k=2\n",
    "    )\n",
    "\n",
    "    # Player's turn (simple strategy: hit until 17 or higher)\n",
    "    while sum([deck[card] for card in playerHand]) < 17:\n",
    "        card = random.choices(\n",
    "            population=list(deck.keys()),\n",
    "            weights=[1,1,1,1,1,1,1,1,1,1,1,1,1],\n",
    "            k=1\n",
    "        )\n",
    "        playerHand.append(card[0])\n",
    "        if sum([deck[card] for card in playerHand]) > 21:\n",
    "            results['Dealer Wins'] += 1\n",
    "            break\n",
    "    else:\n",
    "        # Dealer's turn\n",
    "        while sum([deck[card] for card in dealerHand]) < 17:\n",
    "            card = random.choices(\n",
    "                population=list(deck.keys()),\n",
    "                weights=[1,1,1,1,1,1,1,2,2,2,2,2,2],\n",
    "                k=1\n",
    "            )\n",
    "            dealerHand.append(card[0])\n",
    "        dealerTotal = sum([deck[card] for card in dealerHand])\n",
    "        playerTotal = sum([deck[card] for card in playerHand])\n",
    "        if dealerTotal > 21 or playerTotal > dealerTotal:\n",
    "            results['Player Wins'] += 1\n",
    "        elif playerTotal < dealerTotal:\n",
    "            results['Dealer Wins'] += 1\n",
    "        else:\n",
    "            results['Ties'] += 1\n",
    "        \n",
    "        playerTotalSum += sum([deck[card] for card in playerHand])\n",
    "        dealerTotalSum += sum([deck[card] for card in dealerHand])\n",
    "print(\"After\", n, \"rounds:\")\n",
    "print(results)"
   ]
  },
  {
   "cell_type": "code",
   "execution_count": 13,
   "metadata": {},
   "outputs": [
    {
     "data": {
      "image/png": "[encoded data removed]",
      "text/plain": [
       "<Figure size 640x480 with 1 Axes>"
      ]
     },
     "metadata": {},
     "output_type": "display_data"
    },
    {
     "name": "stdout",
     "output_type": "stream",
     "text": [
      "Probabilities: {'Player Wins': 0.34, 'Dealer Wins': 0.57, 'Ties': 0.09}\n",
      "Average hand value for player: 12.48\n",
      "Average hand value for dealer: 13.79\n"
     ]
    }
   ],
   "source": [
    "df = pandas.DataFrame(list(results.items()), columns=['Outcome', 'Count'])\n",
    "df.plot(kind='bar', x='Outcome', y='Count', legend=False, color=['blue', 'red', 'gray'])\n",
    "matplotlib.pyplot.show()\n",
    "probabilities = {key: value / n for key, value in results.items()}\n",
    "print(\"Probabilities:\", probabilities)\n",
    "\n",
    "average_hand = playerTotalSum / n\n",
    "print(\"Average hand value for player:\", average_hand)\n",
    "average_dealer_hand = dealerTotalSum / n\n",
    "print(\"Average hand value for dealer:\", average_dealer_hand)\n"
   ]
  }
 ],
 "metadata": {
  "kernelspec": {
   "display_name": "Python 3 (ipykernel)",
   "language": "python",
   "name": "python3"
  },
  "language_info": {
   "codemirror_mode": {
    "name": "ipython",
    "version": 3
   },
   "file_extension": ".py",
   "mimetype": "text/x-python",
   "name": "python",
   "nbconvert_exporter": "python",
   "pygments_lexer": "ipython3",
   "version": "3.12.6"
  }
 },
 "nbformat": 4,
 "nbformat_minor": 4
}
