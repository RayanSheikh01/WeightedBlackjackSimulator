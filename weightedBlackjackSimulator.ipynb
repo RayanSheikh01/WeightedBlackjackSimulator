{
 "cells": [
  {
   "cell_type": "markdown",
   "metadata": {},
   "source": [
    "# Blackjack Simulator: Cheating Dealer Edition 🎲🃏\n",
    "\n",
    "This Jupyter Notebook is an interactive **Blackjack game simulator** designed to explore probabilities, strategies and the impact of a **weighted (cheating) dealer**.\n",
    "\n",
    "## Overview\n",
    "The project simulates rounds of Blackjack between a player and a dealer, implementing standard Blackjack rules:\n",
    "- Cards 2–10 are valued at their number  \n",
    "- J, Q, K = 10  \n",
    "- Ace = 1 or 11 (whichever benefits the hand)\n",
    "\n",
    "The dealer uses a **weighted deck**, increasing the likelihood of drawing high value cards, giving them an advantage over the player. This allows for analysis of how “cheating” affects game outcomes.\n",
    "\n",
    "## Features\n",
    "- Simulate **single or multiple rounds** of Blackjack  \n",
    "- Track **player and dealer hand totals** and round outcomes  \n",
    "- Compare results with a **normal dealer vs. cheating dealer**  \n",
    "- Generate **visualisations**: bar charts, histograms, and cumulative win rates  \n",
    "- Explore **probabilities, expected values, and game strategies**  \n",
    "\n",
    "This notebook is a combination of **game simulation, probability analysis, and data visualisation**, demonstrating Python programming and interactive notebook design.\n"
   ]
  },
  {
   "cell_type": "code",
   "execution_count": 1,
   "metadata": {},
   "outputs": [],
   "source": [
    "import random\n",
    "import matplotlib\n",
    "import pandas"
   ]
  },
  {
   "cell_type": "code",
   "execution_count": 2,
   "metadata": {},
   "outputs": [],
   "source": [
    "deck = {\n",
    "    '2': 2, '3': 3, '4': 4, '5': 5, '6': 6, '7': 7, '8': 8, '9': 9, '10': 10,\n",
    "    'J': 10, 'Q': 10, 'K': 10, 'A': 11\n",
    "}"
   ]
  },
  {
   "cell_type": "code",
   "execution_count": 3,
   "metadata": {},
   "outputs": [
    {
     "name": "stdout",
     "output_type": "stream",
     "text": [
      "Dealer Hand: K ?\n",
      "Player Hand: ['4', 'J']\n",
      "Total: 14\n"
     ]
    }
   ],
   "source": [
    "# Draw cards for player and dealer\n",
    "playerHand = random.choices(\n",
    "    population=list(deck.keys()),\n",
    "    weights=[1, 1, 1, 1, 1, 1, 1, 1, 1, 1, 1, 1, 1],\n",
    "    k=2\n",
    ")\n",
    "\n",
    "dealerHand = random.choices(\n",
    "    population=list(deck.keys()),\n",
    "    weights=[1, 1, 1, 1, 1, 1, 1, 2, 2, 2, 2, 2, 2],\n",
    "    k=2\n",
    ")\n",
    "print(\"Dealer Hand:\", dealerHand[0], \"?\")\n",
    "print(\"Player Hand:\",playerHand)\n",
    "print(\"Total:\", sum([deck[card] for card in playerHand]))\n"
   ]
  },
  {
   "cell_type": "code",
   "execution_count": null,
   "metadata": {},
   "outputs": [
    {
     "name": "stdout",
     "output_type": "stream",
     "text": [
      "Player Hand: ['4', 'J', '4']\n",
      "Total: 18\n",
      "Dealer's turn...\n",
      "Dealer Hand: ['K', '2']\n",
      "Dealer Hand: ['K', '2', 'K']\n",
      "Dealer Total: 22\n",
      "Player Total: 18\n",
      "You win!\n"
     ]
    }
   ],
   "source": [
    "# Single round simulation\n",
    "while True:\n",
    "    choice = input(\"Do you want to hit or stand? (h/s): \").lower()\n",
    "    if choice == 'h':\n",
    "        card = random.choices(\n",
    "    population=list(deck.keys()),\n",
    "    weights=[1, 1, 1, 1, 1, 1, 1, 1, 1, 1, 1, 1, 1],\n",
    "    k=1)\n",
    "        playerHand.append(card[0])\n",
    "        total = sum([deck[card] for card in playerHand])\n",
    "        print(\"Player Hand:\", playerHand)\n",
    "        print(\"Total:\", total)\n",
    "        if total > 21:\n",
    "            print(\"Bust! You lose.\")\n",
    "            exit()\n",
    "    elif choice == 's':\n",
    "        break\n",
    "\n",
    "\n",
    "# Dealer's turn\n",
    "print(\"Dealer's turn...\")\n",
    "print(\"Dealer Hand:\", dealerHand)\n",
    "while sum([deck[card] for card in dealerHand]) < 17:\n",
    "    card = random.choices(\n",
    "        population=list(deck.keys()),\n",
    "        weights=[1, 1, 1, 1, 1, 1, 1, 2, 2, 2, 2, 2, 2],\n",
    "        k=1\n",
    "    )\n",
    "    dealerHand.append(card[0])\n",
    "    print(\"Dealer Hand:\", dealerHand)\n",
    "dealerTotal = sum([deck[card] for card in dealerHand])\n",
    "playerTotal = sum([deck[card] for card in playerHand])\n",
    "print(\"Dealer Total:\", dealerTotal)\n",
    "print(\"Player Total:\", playerTotal)\n",
    "# Determine winner\n",
    "if dealerTotal > 21 or playerTotal >= dealerTotal:\n",
    "    print(\"You win!\")\n",
    "elif playerTotal < dealerTotal:\n",
    "    print(\"Dealer wins!\")"
   ]
  }
 ],
 "metadata": {
  "kernelspec": {
   "display_name": "Python 3 (ipykernel)",
   "language": "python",
   "name": "python3"
  },
  "language_info": {
   "codemirror_mode": {
    "name": "ipython",
    "version": 3
   },
   "file_extension": ".py",
   "mimetype": "text/x-python",
   "name": "python",
   "nbconvert_exporter": "python",
   "pygments_lexer": "ipython3",
   "version": "3.12.6"
  }
 },
 "nbformat": 4,
 "nbformat_minor": 4
}
